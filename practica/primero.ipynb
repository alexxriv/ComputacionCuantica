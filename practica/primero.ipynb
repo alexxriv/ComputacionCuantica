{
  "cells": [
    {
      "attachments": {},
      "cell_type": "markdown",
      "metadata": {
        "id": "JVVLcPDR1eSf"
      },
      "source": [
        "\n",
        "### **Resumen**\n",
        "\n",
        "Esta es una introducción a la computación cuántica y Q#. El resultado final será un generador de números aleatorios.\n",
        "\n",
        "Solo una computadora cuántica puede generar números aleatorios **reales**. Las computadoras clásicas solo pueden crear números **pseudoaleatorios**. Cuando utilizas una librería 'random' en python, no estás creando números aleatorios reales. \n",
        "\n",
        "<br>\n",
        "\n",
        "### **Objetivos de aprendizaje**\n",
        "* Familiarización con azure\n",
        "* Creación de programas y circuitos simples con Q#\n",
        "* Visualiar resultados\n",
        "* Contruir un generador de números aleatorios con qubits."
      ]
    },
    {
      "attachments": {},
      "cell_type": "markdown",
      "metadata": {
        "id": "ENXo-7TN1eSh",
        "nteract": {
          "transient": {
            "deleting": false
          }
        }
      },
      "source": [
        "## **Parte #0: Imports**\n",
        "\n",
        "Las siguientes lineas permiten importar las librerias y funciones necesarias para el tutorial\n",
        "\n",
        "<br>\n",
        "\n",
        "**NOTA:** Utilizaremos Azure Quantum Workspace Notebooks. Estos notebooks te permiten ejecutar Python y Q#. Python será utilizado para visualizar nuestros resultados. Siempre que utilicemos Q# necesitaremos empezar la celda con la linea `%%qsharp`."
      ]
    },
    {
      "attachments": {},
      "cell_type": "markdown",
      "metadata": {},
      "source": [
        "Es necesario crear un entorno virutal de python y guardar los accesos de azure en un archivo .env"
      ]
    },
    {
      "cell_type": "code",
      "execution_count": null,
      "metadata": {},
      "outputs": [],
      "source": [
        "`python3 -m venv .venv`\n",
        "`source .venv/bin/activate `\n",
        "pip3 install qsharp matplotlib\n",
        "touch .env\n"
      ]
    },
    {
      "cell_type": "code",
      "execution_count": 7,
      "metadata": {},
      "outputs": [
        {
          "data": {
            "text/plain": [
              "'/subscriptions/b9fa0c76-7634-4e78-a907-b78c04a55d4b/resourceGroups/AzureQuantum/providers/Microsoft.Quantum/Workspaces/qxqwinterschoolAlejandroTerrazas-Rivera'"
            ]
          },
          "execution_count": 7,
          "metadata": {},
          "output_type": "execute_result"
        }
      ],
      "source": [
        "from dotenv import load_dotenv\n",
        "import os\n",
        "\n",
        "load_dotenv()\n",
        "RESOURCE_ID = os.getenv(\"RESOURCE_ID\")\n",
        "RESOURCE_ID"
      ]
    },
    {
      "cell_type": "code",
      "execution_count": 11,
      "metadata": {
        "id": "ErXcUGJC1eSi",
        "jupyter": {
          "outputs_hidden": false,
          "source_hidden": false
        },
        "microsoft": {},
        "nteract": {
          "transient": {
            "deleting": false
          }
        }
      },
      "outputs": [
        {
          "ename": "AttributeError",
          "evalue": "partially initialized module 'qsharp' has no attribute 'noise_model' (most likely due to a circular import)",
          "output_type": "error",
          "traceback": [
            "\u001b[0;31m---------------------------------------------------------------------------\u001b[0m",
            "\u001b[0;31mAttributeError\u001b[0m                            Traceback (most recent call last)",
            "Cell \u001b[0;32mIn[11], line 3\u001b[0m\n\u001b[1;32m      1\u001b[0m \u001b[39mfrom\u001b[39;00m \u001b[39mmatplotlib\u001b[39;00m \u001b[39mimport\u001b[39;00m pyplot\n\u001b[0;32m----> 3\u001b[0m \u001b[39mimport\u001b[39;00m \u001b[39mqsharp\u001b[39;00m\u001b[39m.\u001b[39;00m\u001b[39mazure\u001b[39;00m\n",
            "File \u001b[0;32m~/Documents/Quantum/.venv/lib/python3.9/site-packages/qsharp/__init__.py:50\u001b[0m\n\u001b[1;32m     48\u001b[0m \u001b[39mfrom\u001b[39;00m \u001b[39mqsharp\u001b[39;00m\u001b[39m.\u001b[39;00m\u001b[39mnoise_model\u001b[39;00m \u001b[39mimport\u001b[39;00m \u001b[39m*\u001b[39m\n\u001b[1;32m     49\u001b[0m \u001b[39mimport\u001b[39;00m \u001b[39mqsharp\u001b[39;00m\u001b[39m.\u001b[39;00m\u001b[39mnoise_model\u001b[39;00m\n\u001b[0;32m---> 50\u001b[0m __all__ \u001b[39m+\u001b[39m\u001b[39m=\u001b[39m qsharp\u001b[39m.\u001b[39;49mnoise_model\u001b[39m.\u001b[39m__all__\n\u001b[1;32m     52\u001b[0m \u001b[39m## FUNCTIONS ##\u001b[39;00m\n\u001b[1;32m     54\u001b[0m \u001b[39mdef\u001b[39;00m \u001b[39mcompile\u001b[39m(code : \u001b[39mstr\u001b[39m) \u001b[39m-\u001b[39m\u001b[39m>\u001b[39m Union[\u001b[39mNone\u001b[39;00m, QSharpCallable, List[QSharpCallable]]:\n",
            "\u001b[0;31mAttributeError\u001b[0m: partially initialized module 'qsharp' has no attribute 'noise_model' (most likely due to a circular import)"
          ]
        }
      ],
      "source": [
        "from matplotlib import pyplot\n",
        "\n",
        "import qsharp.azure\n",
        "\n",
        "# Connect to available targets\n",
        "targets = qsharp.azure.connect(\n",
        "    resourceId=RESOURCE_ID,\n",
        "    location=\"eastus\")"
      ]
    },
    {
      "cell_type": "code",
      "execution_count": 2,
      "metadata": {
        "collapsed": true,
        "id": "-1toKjBz1eSj",
        "jupyter": {
          "outputs_hidden": false,
          "source_hidden": false
        },
        "microsoft": {
          "language": "qsharp"
        },
        "nteract": {
          "transient": {
            "deleting": false
          }
        }
      },
      "outputs": [
        {
          "name": "stderr",
          "output_type": "stream",
          "text": [
            "UsageError: Cell magic `%%qsharp` not found.\n"
          ]
        }
      ],
      "source": [
        "%%qsharp\n",
        "open Microsoft.Quantum.Arrays;\n",
        "open Microsoft.Quantum.Measurement;\n",
        "open Microsoft.Quantum.Convert;"
      ]
    },
    {
      "attachments": {},
      "cell_type": "markdown",
      "metadata": {
        "id": "dgiJSJ_n1eSk",
        "nteract": {
          "transient": {
            "deleting": false
          }
        }
      },
      "source": [
        "## **Parte #1: Principios de Q#**"
      ]
    },
    {
      "attachments": {},
      "cell_type": "markdown",
      "metadata": {
        "id": "z_E96aK51eSk",
        "nteract": {
          "transient": {
            "deleting": false
          }
        }
      },
      "source": [
        "### Hello World\n",
        "\n",
        "Primer crearemos nuestra primera operación que regresará un mensaje de `hello world``\n",
        "\n",
        "1. Declaramos la operación en python\n",
        "2. Crearemos la operación en Q# llamada `HelloWorld`.\n",
        "3. Simularemos la operación en python."
      ]
    },
    {
      "attachments": {},
      "cell_type": "markdown",
      "metadata": {
        "id": "o4FC7P_b1eSk",
        "nteract": {
          "transient": {
            "deleting": false
          }
        }
      },
      "source": [
        "#### **1. Declaramos la operación en python.**"
      ]
    },
    {
      "cell_type": "code",
      "execution_count": null,
      "metadata": {
        "id": "o1fnmmhw1eSk",
        "jupyter": {
          "outputs_hidden": true,
          "source_hidden": false
        },
        "nteract": {
          "transient": {
            "deleting": false
          }
        }
      },
      "outputs": [],
      "source": [
        "HelloWorld: any = None"
      ]
    },
    {
      "attachments": {},
      "cell_type": "markdown",
      "metadata": {
        "id": "IUBPKUIP1eSk",
        "nteract": {
          "transient": {
            "deleting": false
          }
        }
      },
      "source": [
        "#### **2. Crearemos la operación en Q# llamada `HelloWorld`.** \n",
        "\n",
        "Let's complete the code below so that this operation:\n",
        "* No recibe parametros.\n",
        "* El tipo de respuesta es `Unit`.\n",
        "* Imprime el mensaje `\"Hola mundo!\"`."
      ]
    },
    {
      "cell_type": "code",
      "execution_count": null,
      "metadata": {
        "id": "gMPOUCu6Dc2L",
        "microsoft": {
          "language": "qsharp"
        }
      },
      "outputs": [],
      "source": [
        "%%qsharp\n",
        "operation HelloWorld() : Unit {\n",
        "    Message($\"Hola mundo!\")\n",
        "}"
      ]
    },
    {
      "attachments": {},
      "cell_type": "markdown",
      "metadata": {
        "id": "ekNwIPpj1eSl",
        "nteract": {
          "transient": {
            "deleting": false
          }
        }
      },
      "source": [
        "#### **3. Simularemos la operación en python..**\n"
      ]
    },
    {
      "cell_type": "code",
      "execution_count": null,
      "metadata": {
        "id": "su7Grjul1eSl",
        "jupyter": {
          "outputs_hidden": false,
          "source_hidden": false
        },
        "nteract": {
          "transient": {
            "deleting": false
          }
        }
      },
      "outputs": [],
      "source": [
        "HelloWorld.simulate()"
      ]
    }
  ],
  "metadata": {
    "colab": {
      "provenance": []
    },
    "kernel_info": {
      "name": "python3"
    },
    "kernelspec": {
      "display_name": ".venv",
      "language": "python",
      "name": "python3"
    },
    "language_info": {
      "codemirror_mode": {
        "name": "ipython",
        "version": 3
      },
      "file_extension": ".py",
      "mimetype": "text/x-python",
      "name": "python",
      "nbconvert_exporter": "python",
      "pygments_lexer": "ipython3",
      "version": "3.9.6"
    },
    "microsoft": {
      "host": {
        "AzureQuantum": {
          "sourceLink": "https://raw.githubusercontent.com/microsoft/Quantum/f7d76cc28219b577404437b993a8fdfdc0dad33e/samples/azure-quantum/parallel-qrng/ParallelQrng.ipynb",
          "sourceType": "SampleGallery"
        }
      }
    },
    "nteract": {
      "version": "nteract-front-end@1.0.0"
    },
    "vscode": {
      "interpreter": {
        "hash": "db1456131ca90ce5236b24aff91d64deeec14361a3a4f3c5beb95a7bd704fdc1"
      }
    }
  },
  "nbformat": 4,
  "nbformat_minor": 0
}
