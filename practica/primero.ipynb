{
  "cells": [
    {
      "attachments": {},
      "cell_type": "markdown",
      "metadata": {
        "id": "JVVLcPDR1eSf"
      },
      "source": [
        "\n",
        "### **Resumen**\n",
        "\n",
        "Esta es una introducción a la computación cuántica y Q#. El resultado final será un generador de números aleatorios.\n",
        "\n",
        "Solo una computadora cuántica puede generar números aleatorios **reales**. Las computadoras clásicas solo pueden crear números **pseudoaleatorios**. Cuando utilizas una librería 'random' en python, no estás creando números aleatorios reales. \n",
        "\n",
        "<br>\n",
        "\n",
        "### **Objetivos de aprendizaje**\n",
        "* Familiarización con azure\n",
        "* Creación de programas y circuitos simples con Q#\n",
        "* Visualiar resultados\n",
        "* Contruir un generador de números aleatorios con qubits."
      ]
    },
    {
      "attachments": {},
      "cell_type": "markdown",
      "metadata": {
        "id": "ENXo-7TN1eSh",
        "nteract": {
          "transient": {
            "deleting": false
          }
        }
      },
      "source": [
        "## **Parte #0: Imports**\n",
        "\n",
        "Las siguientes lineas permiten importar las librerias y funciones necesarias para el tutorial\n",
        "\n",
        "<br>\n",
        "\n",
        "**NOTA:** Utilizaremos Azure Quantum Workspace Notebooks. Estos notebooks te permiten ejecutar Python y Q#. Python será utilizado para visualizar nuestros resultados. Siempre que utilicemos Q# necesitaremos empezar la celda con la linea `%%qsharp`."
      ]
    },
    {
      "cell_type": "code",
      "execution_count": null,
      "metadata": {
        "id": "ErXcUGJC1eSi",
        "jupyter": {
          "outputs_hidden": false,
          "source_hidden": false
        },
        "microsoft": {},
        "nteract": {
          "transient": {
            "deleting": false
          }
        }
      },
      "outputs": [],
      "source": [
        "from matplotlib import pyplot\n",
        "\n",
        "import qsharp\n",
        "import qsharp.azure\n",
        "\n",
        "# Connect to available targets\n",
        "targets = qsharp.azure.connect(\n",
        "    resourceId=\"[YOUR_RESOURCE_ID]\",\n",
        "    location=\"eastus\")"
      ]
    },
    {
      "cell_type": "code",
      "execution_count": null,
      "metadata": {
        "collapsed": true,
        "id": "-1toKjBz1eSj",
        "jupyter": {
          "outputs_hidden": false,
          "source_hidden": false
        },
        "microsoft": {
          "language": "qsharp"
        },
        "nteract": {
          "transient": {
            "deleting": false
          }
        }
      },
      "outputs": [],
      "source": [
        "%%qsharp\n",
        "open Microsoft.Quantum.Arrays;\n",
        "open Microsoft.Quantum.Measurement;\n",
        "open Microsoft.Quantum.Convert;"
      ]
    },
    {
      "attachments": {},
      "cell_type": "markdown",
      "metadata": {
        "id": "dgiJSJ_n1eSk",
        "nteract": {
          "transient": {
            "deleting": false
          }
        }
      },
      "source": [
        "## **Parte #1: Principios de Q#**"
      ]
    },
    {
      "attachments": {},
      "cell_type": "markdown",
      "metadata": {
        "id": "z_E96aK51eSk",
        "nteract": {
          "transient": {
            "deleting": false
          }
        }
      },
      "source": [
        "### Hello World\n",
        "\n",
        "Primer crearemos nuestra primera operación que regresará un mensaje de `hello world``\n",
        "\n",
        "1. Declaramos la operación en python\n",
        "2. Crearemos la operación en Q# llamada `HelloWorld`.\n",
        "3. Simularemos la operación en python."
      ]
    },
    {
      "attachments": {},
      "cell_type": "markdown",
      "metadata": {
        "id": "o4FC7P_b1eSk",
        "nteract": {
          "transient": {
            "deleting": false
          }
        }
      },
      "source": [
        "#### **1. Declaramos la operación en python.**"
      ]
    },
    {
      "cell_type": "code",
      "execution_count": null,
      "metadata": {
        "id": "o1fnmmhw1eSk",
        "jupyter": {
          "outputs_hidden": true,
          "source_hidden": false
        },
        "nteract": {
          "transient": {
            "deleting": false
          }
        }
      },
      "outputs": [],
      "source": [
        "HelloWorld: any = None"
      ]
    },
    {
      "attachments": {},
      "cell_type": "markdown",
      "metadata": {
        "id": "IUBPKUIP1eSk",
        "nteract": {
          "transient": {
            "deleting": false
          }
        }
      },
      "source": [
        "#### **2. Crearemos la operación en Q# llamada `HelloWorld`.** \n",
        "\n",
        "Let's complete the code below so that this operation:\n",
        "* No recibe parametros.\n",
        "* El tipo de respuesta es `Unit`.\n",
        "* Imprime el mensaje `\"Hola mundo!\"`."
      ]
    },
    {
      "cell_type": "code",
      "execution_count": null,
      "metadata": {
        "id": "gMPOUCu6Dc2L",
        "microsoft": {
          "language": "qsharp"
        }
      },
      "outputs": [],
      "source": [
        "%%qsharp\n",
        "operation HelloWorld() : Unit {\n",
        "    Message($\"Hola mundo!\")\n",
        "}"
      ]
    },
    {
      "attachments": {},
      "cell_type": "markdown",
      "metadata": {
        "id": "ekNwIPpj1eSl",
        "nteract": {
          "transient": {
            "deleting": false
          }
        }
      },
      "source": [
        "#### **3. Simularemos la operación en python..**\n"
      ]
    },
    {
      "cell_type": "code",
      "execution_count": null,
      "metadata": {
        "id": "su7Grjul1eSl",
        "jupyter": {
          "outputs_hidden": false,
          "source_hidden": false
        },
        "nteract": {
          "transient": {
            "deleting": false
          }
        }
      },
      "outputs": [],
      "source": [
        "HelloWorld.simulate()"
      ]
    }
  ],
  "metadata": {
    "colab": {
      "provenance": []
    },
    "kernel_info": {
      "name": "python3"
    },
    "kernelspec": {
      "display_name": "Python 3",
      "language": "python",
      "name": "python3"
    },
    "language_info": {
      "codemirror_mode": {
        "name": "ipython",
        "version": 3
      },
      "file_extension": ".py",
      "mimetype": "text/x-python",
      "name": "python",
      "nbconvert_exporter": "python",
      "pygments_lexer": "ipython3",
      "version": "3.9.6"
    },
    "microsoft": {
      "host": {
        "AzureQuantum": {
          "sourceLink": "https://raw.githubusercontent.com/microsoft/Quantum/f7d76cc28219b577404437b993a8fdfdc0dad33e/samples/azure-quantum/parallel-qrng/ParallelQrng.ipynb",
          "sourceType": "SampleGallery"
        }
      }
    },
    "nteract": {
      "version": "nteract-front-end@1.0.0"
    },
    "vscode": {
      "interpreter": {
        "hash": "31f2aee4e71d21fbe5cf8b01ff0e069b9275f58929596ceb00d14d90e3e16cd6"
      }
    }
  },
  "nbformat": 4,
  "nbformat_minor": 0
}
