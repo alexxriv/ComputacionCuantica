{
  "cells": [
    {
      "attachments": {},
      "cell_type": "markdown",
      "metadata": {
        "id": "JVVLcPDR1eSf"
      },
      "source": [
        "\n",
        "### **Resumen**\n",
        "\n",
        "Esta es una introducción a la computación cuántica y Q#. El resultado final será un generador de números aleatorios.\n",
        "\n",
        "Solo una computadora cuántica puede generar números aleatorios **reales**. Las computadoras clásicas solo pueden crear números **pseudoaleatorios**. Cuando utilizas una librería 'random' en python, no estás creando números aleatorios reales. \n",
        "\n",
        "<br>\n",
        "\n",
        "### **Objetivos de aprendizaje**\n",
        "* Familiarización con azure\n",
        "* Creación de programas y circuitos simples con Q#\n",
        "* Visualiar resultados\n",
        "* Contruir un generador de números aleatorios con qubits."
      ]
    },
    {
      "attachments": {},
      "cell_type": "markdown",
      "metadata": {},
      "source": [
        "## Utilizando Q# en VScode\n",
        "\n",
        "VScode es el IDE recomendado para utilizar Q#.\n",
        "Como prerequisito se necesita instalar __\n",
        "### Azure CLI\n",
        "Azure CLI es el método preferido para crear tareas de Q# (cuánticas) desde la terminal.\n",
        "- Instalar [Azure CLI](https://learn.microsoft.com/es-es/cli/azure/install-azure-cli)\n",
        "- Instalar la última extensión `quantum` de azure con el siguiente comando:\n",
        "```\n",
        "az extension add --upgrade -n quantum\n",
        "```\n",
        "\n",
        "\n",
        "Estos pasos se tomaron de la [documentación oficial de Q#](https://learn.microsoft.com/es-mx/azure/quantum/install-overview-qdk?tabs=tabid-vscode%2Ctabid-conda#use-q-and-python-with-visual-studio-and-visual-studio-code). Puedes revisarlos en caso de tener algún problema."
      ]
    },
    {
      "attachments": {},
      "cell_type": "markdown",
      "metadata": {
        "id": "ENXo-7TN1eSh",
        "nteract": {
          "transient": {
            "deleting": false
          }
        }
      },
      "source": [
        "## **Parte #0: Imports**\n",
        "\n",
        "Las siguientes lineas permiten importar las librerias y funciones necesarias para el tutorial\n",
        "\n",
        "<br>\n",
        "\n",
        "**NOTA:** Utilizaremos Azure Quantum Workspace Notebooks. Estos notebooks te permiten ejecutar Python y Q#. Python será utilizado para visualizar nuestros resultados. Siempre que utilicemos Q# necesitaremos empezar la celda con la linea `%%qsharp`."
      ]
    },
    {
      "attachments": {},
      "cell_type": "markdown",
      "metadata": {},
      "source": [
        "Es necesario crear un entorno virutal de python y guardar los accesos de azure en un archivo .env"
      ]
    },
    {
      "attachments": {},
      "cell_type": "markdown",
      "metadata": {},
      "source": [
        "`python3 -m venv .venv`\n",
        "\n",
        "`source .venv/bin/activate `\n",
        "\n",
        "`pip3 install qsharp matplotlib`"
      ]
    },
    {
      "cell_type": "code",
      "execution_count": 1,
      "metadata": {},
      "outputs": [],
      "source": [
        "%reset -f\n",
        "%store -z"
      ]
    },
    {
      "cell_type": "code",
      "execution_count": 1,
      "metadata": {},
      "outputs": [],
      "source": [
        "from dotenv import load_dotenv\n",
        "import os\n",
        "\n",
        "load_dotenv()\n",
        "RESOURCE_ID = os.getenv(\"RESOURCE_ID\")"
      ]
    },
    {
      "cell_type": "code",
      "execution_count": 7,
      "metadata": {
        "id": "ErXcUGJC1eSi",
        "jupyter": {
          "outputs_hidden": false,
          "source_hidden": false
        },
        "microsoft": {},
        "nteract": {
          "transient": {
            "deleting": false
          }
        }
      },
      "outputs": [
        {
          "ename": "AttributeError",
          "evalue": "partially initialized module 'qsharp' has no attribute 'clients' (most likely due to a circular import)",
          "output_type": "error",
          "traceback": [
            "\u001b[0;31m---------------------------------------------------------------------------\u001b[0m",
            "\u001b[0;31mAttributeError\u001b[0m                            Traceback (most recent call last)",
            "Cell \u001b[0;32mIn[7], line 3\u001b[0m\n\u001b[1;32m      1\u001b[0m \u001b[39mfrom\u001b[39;00m \u001b[39mmatplotlib\u001b[39;00m \u001b[39mimport\u001b[39;00m pyplot\n\u001b[0;32m----> 3\u001b[0m \u001b[39mimport\u001b[39;00m \u001b[39mqsharp\u001b[39;00m\u001b[39m.\u001b[39;00m\u001b[39mazure\u001b[39;00m\n",
            "File \u001b[0;32m~/Documents/Quantum/.venv/lib/python3.9/site-packages/qsharp/__init__.py:202\u001b[0m\n\u001b[1;32m    198\u001b[0m             processed_data\u001b[39m.\u001b[39mappend(diagnostic)\n\u001b[1;32m    200\u001b[0m \u001b[39m## STARTUP ##\u001b[39;00m\n\u001b[0;32m--> 202\u001b[0m client \u001b[39m=\u001b[39m _start_client()\n\u001b[1;32m    203\u001b[0m config \u001b[39m=\u001b[39m Config(client)\n\u001b[1;32m    204\u001b[0m packages \u001b[39m=\u001b[39m Packages(client)\n",
            "File \u001b[0;32m~/Documents/Quantum/.venv/lib/python3.9/site-packages/qsharp/clients/__init__.py:34\u001b[0m, in \u001b[0;36m_start_client\u001b[0;34m()\u001b[0m\n\u001b[1;32m     32\u001b[0m     kernel_name \u001b[39m=\u001b[39m  os\u001b[39m.\u001b[39mgetenv(\u001b[39m\"\u001b[39m\u001b[39mQSHARP_PY_IQSHARP_KERNEL_NAME\u001b[39m\u001b[39m\"\u001b[39m, \u001b[39m\"\u001b[39m\u001b[39miqsharp\u001b[39m\u001b[39m\"\u001b[39m)\n\u001b[1;32m     33\u001b[0m     \u001b[39mimport\u001b[39;00m \u001b[39mqsharp\u001b[39;00m\u001b[39m.\u001b[39;00m\u001b[39mclients\u001b[39;00m\u001b[39m.\u001b[39;00m\u001b[39miqsharp\u001b[39;00m\n\u001b[0;32m---> 34\u001b[0m     client \u001b[39m=\u001b[39m qsharp\u001b[39m.\u001b[39;49mclients\u001b[39m.\u001b[39miqsharp\u001b[39m.\u001b[39mIQSharpClient(kernel_name\u001b[39m=\u001b[39mkernel_name)\n\u001b[1;32m     35\u001b[0m \u001b[39melif\u001b[39;00m client_name \u001b[39m==\u001b[39m \u001b[39m\"\u001b[39m\u001b[39mmock\u001b[39m\u001b[39m\"\u001b[39m:\n\u001b[1;32m     36\u001b[0m     \u001b[39mimport\u001b[39;00m \u001b[39mqsharp\u001b[39;00m\u001b[39m.\u001b[39;00m\u001b[39mclients\u001b[39;00m\u001b[39m.\u001b[39;00m\u001b[39mmock\u001b[39;00m\n",
            "\u001b[0;31mAttributeError\u001b[0m: partially initialized module 'qsharp' has no attribute 'clients' (most likely due to a circular import)"
          ]
        }
      ],
      "source": [
        "from matplotlib import pyplot\n",
        "\n",
        "import qsharp.azure\n",
        "\n",
        "# Connect to available targets\n",
        "targets = qsharp.azure.connect(\n",
        "    resourceId=RESOURCE_ID,\n",
        "    location=\"eastus\")"
      ]
    },
    {
      "cell_type": "code",
      "execution_count": 3,
      "metadata": {
        "collapsed": true,
        "id": "-1toKjBz1eSj",
        "jupyter": {
          "outputs_hidden": false,
          "source_hidden": false
        },
        "microsoft": {
          "language": "qsharp"
        },
        "nteract": {
          "transient": {
            "deleting": false
          }
        }
      },
      "outputs": [
        {
          "name": "stderr",
          "output_type": "stream",
          "text": [
            "UsageError: Cell magic `%%qsharp` not found.\n"
          ]
        }
      ],
      "source": [
        "%%qsharp\n",
        "open Microsoft.Quantum.Arrays;\n",
        "open Microsoft.Quantum.Measurement;\n",
        "open Microsoft.Quantum.Convert;"
      ]
    },
    {
      "attachments": {},
      "cell_type": "markdown",
      "metadata": {
        "id": "dgiJSJ_n1eSk",
        "nteract": {
          "transient": {
            "deleting": false
          }
        }
      },
      "source": [
        "## **Parte #1: Principios de Q#**"
      ]
    },
    {
      "attachments": {},
      "cell_type": "markdown",
      "metadata": {
        "id": "z_E96aK51eSk",
        "nteract": {
          "transient": {
            "deleting": false
          }
        }
      },
      "source": [
        "### Hello World\n",
        "\n",
        "Primer crearemos nuestra primera operación que regresará un mensaje de `hello world``\n",
        "\n",
        "1. Declaramos la operación en python\n",
        "2. Crearemos la operación en Q# llamada `HelloWorld`.\n",
        "3. Simularemos la operación en python."
      ]
    },
    {
      "attachments": {},
      "cell_type": "markdown",
      "metadata": {
        "id": "o4FC7P_b1eSk",
        "nteract": {
          "transient": {
            "deleting": false
          }
        }
      },
      "source": [
        "#### **1. Declaramos la operación en python.**"
      ]
    },
    {
      "cell_type": "code",
      "execution_count": null,
      "metadata": {
        "id": "o1fnmmhw1eSk",
        "jupyter": {
          "outputs_hidden": true,
          "source_hidden": false
        },
        "nteract": {
          "transient": {
            "deleting": false
          }
        }
      },
      "outputs": [],
      "source": [
        "HelloWorld: any = None"
      ]
    },
    {
      "attachments": {},
      "cell_type": "markdown",
      "metadata": {
        "id": "IUBPKUIP1eSk",
        "nteract": {
          "transient": {
            "deleting": false
          }
        }
      },
      "source": [
        "#### **2. Crearemos la operación en Q# llamada `HelloWorld`.** \n",
        "\n",
        "Let's complete the code below so that this operation:\n",
        "* No recibe parametros.\n",
        "* El tipo de respuesta es `Unit`.\n",
        "* Imprime el mensaje `\"Hola mundo!\"`."
      ]
    },
    {
      "cell_type": "code",
      "execution_count": null,
      "metadata": {
        "id": "gMPOUCu6Dc2L",
        "microsoft": {
          "language": "qsharp"
        }
      },
      "outputs": [],
      "source": [
        "%%qsharp\n",
        "operation HelloWorld() : Unit {\n",
        "    Message($\"Hola mundo!\")\n",
        "}"
      ]
    },
    {
      "attachments": {},
      "cell_type": "markdown",
      "metadata": {
        "id": "ekNwIPpj1eSl",
        "nteract": {
          "transient": {
            "deleting": false
          }
        }
      },
      "source": [
        "#### **3. Simularemos la operación en python..**\n"
      ]
    },
    {
      "cell_type": "code",
      "execution_count": null,
      "metadata": {
        "id": "su7Grjul1eSl",
        "jupyter": {
          "outputs_hidden": false,
          "source_hidden": false
        },
        "nteract": {
          "transient": {
            "deleting": false
          }
        }
      },
      "outputs": [],
      "source": [
        "HelloWorld.simulate()"
      ]
    }
  ],
  "metadata": {
    "colab": {
      "provenance": []
    },
    "kernel_info": {
      "name": "python3"
    },
    "kernelspec": {
      "display_name": ".venv",
      "language": "python",
      "name": "python3"
    },
    "language_info": {
      "codemirror_mode": {
        "name": "ipython",
        "version": 3
      },
      "file_extension": ".py",
      "mimetype": "text/x-python",
      "name": "python",
      "nbconvert_exporter": "python",
      "pygments_lexer": "ipython3",
      "version": "3.9.6"
    },
    "microsoft": {
      "host": {
        "AzureQuantum": {
          "sourceLink": "https://raw.githubusercontent.com/microsoft/Quantum/f7d76cc28219b577404437b993a8fdfdc0dad33e/samples/azure-quantum/parallel-qrng/ParallelQrng.ipynb",
          "sourceType": "SampleGallery"
        }
      }
    },
    "nteract": {
      "version": "nteract-front-end@1.0.0"
    },
    "vscode": {
      "interpreter": {
        "hash": "db1456131ca90ce5236b24aff91d64deeec14361a3a4f3c5beb95a7bd704fdc1"
      }
    }
  },
  "nbformat": 4,
  "nbformat_minor": 0
}
